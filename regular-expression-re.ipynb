{
 "cells": [
  {
   "cell_type": "code",
   "execution_count": null,
   "id": "b82e446b",
   "metadata": {
    "papermill": {
     "duration": 0.019678,
     "end_time": "2022-03-14T14:49:06.616703",
     "exception": false,
     "start_time": "2022-03-14T14:49:06.597025",
     "status": "completed"
    },
    "tags": []
   },
   "outputs": [],
   "source": []
  },
  {
   "cell_type": "markdown",
   "id": "ec675d08",
   "metadata": {
    "papermill": {
     "duration": 0.017618,
     "end_time": "2022-03-14T14:49:06.652443",
     "exception": false,
     "start_time": "2022-03-14T14:49:06.634825",
     "status": "completed"
    },
    "tags": []
   },
   "source": [
    "#### Regular expressions are a powerful language for matching text patterns."
   ]
  },
  {
   "cell_type": "markdown",
   "id": "e451aa00",
   "metadata": {
    "papermill": {
     "duration": 0.017311,
     "end_time": "2022-03-14T14:49:06.687288",
     "exception": false,
     "start_time": "2022-03-14T14:49:06.669977",
     "status": "completed"
    },
    "tags": []
   },
   "source": [
    "#### The Python \"re\" module provides regular expression support\n",
    "\n",
    "#### match = re.search(pat, str)\n",
    "\n",
    "#### “re” module included with Python primarily used for string searching and manipulation\n",
    "#### Also used frequently for web page “Scraping” (extract large amount of data from websites)\n",
    "\n",
    "#### Following table lists the regular expression syntax that is available in Python −\n",
    "\n",
    "\n",
    "### Pattern Description:\n",
    "\n",
    "#### ^ ===> Matches beginning of line.\n",
    "\n",
    "#### $  ===> Matches end of line.\n",
    "\n",
    "#### .  ===>Matches any single character except newline. Using m option allows it to match newline as well.\n",
    "\n",
    "#### [...]  ===>Matches any single character in brackets.\n",
    "\n",
    "#### [^...] ===> Matches any single character not in brackets\n",
    "\n",
    "#### re* ===> Matches 0 or more occurrences of preceding expression.\n",
    "\n",
    "#### re+  ===>Matches 1 or more occurrence of preceding expression.\n",
    "\n",
    "#### re? ===> Matches 0 or 1 occurrence of preceding expression.\n",
    "\n",
    "#### re{ n} ===> Matches exactly n number of occurrences of preceding expression.\n",
    "\n",
    "#### re{ n,} ===> Matches n or more occurrences of preceding expression.\n",
    "\n",
    "#### re{ n, m} ===> Matches at least n and at most m occurrences of preceding expression.\n",
    "\n",
    "#### a| b  ===>Matches either a or b.\n",
    "\n",
    "#### \\w ===>Matches word characters.\n",
    "#### \\W ===>Matches nonword characters.\n",
    "#### \\s ===>Matches whitespace. Equivalent to [\\t\\n\\r\\f].\n",
    "#### \\S ===>Matches nonwhitespace.\n",
    "#### \\d ===>Matches digits. Equivalent to [0-9].\n",
    "#### \\D ===>Matches nondigits.\n",
    "#### \\A ===>Matches beginning of string.\n",
    "#### \\Z ===>Matches end of string. If a newline exists, it matches just before newline.\n",
    "#### \\z ===>Matches end of string\n",
    "\n",
    "#### rub[ye]===> Match \"ruby\" or \"rube\"\n",
    "#### [aeiou]===> Match any one lowercase vowel\n",
    "#### [0-9] ===>Match any digit; same as [0123456789]\n",
    "#### [a-z] ===>Match any lowercase ASCII letter\n",
    "#### [A-Z] ===>Match any uppercase ASCII letter\n",
    "#### [a-zA-Z0-9] ===>Match any of the above\n",
    "#### [^aeiou]===> Match anything other than a lowercase vowel\n",
    "#### [^0-9] ===> Match anything other than a digit\n",
    "\n",
    "#### . ===>Match any character except newline\n",
    "#### \\d ===> Match a digit: [0-9]\n",
    "#### \\D ===> Match a nondigit: [^0-9]\n",
    "#### \\s ===> Match a whitespace character: [ \\t\\r\\n\\f]\n",
    "#### \\S ===> Match nonwhitespace: [^ \\t\\r\\n\\f]\n",
    "#### \\w ===> Match a single word character: [A-Za-z0-9_]\n",
    "#### \\W ===> Match a nonword character: [^A-Za-z0-9_]\n",
    "\n",
    "#### ruby? ===> Match \"rub\" or \"ruby\": the y is optional\n",
    "#### ruby* ===> Match \"rub\" plus 0 or more ys\n",
    "#### ruby+ ===> Match \"rub\" plus 1 or more ys\n",
    "#### \\d{3} ===> Match exactly 3 digits\n",
    "#### \\d{3,} ===>Match 3 or more digits\n",
    "#### \\d{3,5} ===>Match 3, 4, or 5 digits\n",
    "\n",
    "#### [Pp]ython&\\1ails ===>Match python&pails or Python&Pails\n",
    "#### ['\"][^\\1]*\\1 ===>Single or double-quoted string. \\1 matches whatever the 1st group matched. \\2 matches whatever the 2nd group matched, etc.\n",
    "\n",
    "#### python|perl ===>Match \"python\" or \"perl\"\n",
    "#### ruby|le) ===>Match \"ruby\" or \"ruble\"\n",
    "#### Python!+|\\? ===>\"Python\" followed by one or more ! or one ?\n",
    "\n",
    "\n",
    "#### ^Python===>Match \"Python\" at the start of a string or internal line\n",
    "#### Python$===>Match \"Python\" at the end of a string or line\n",
    "#### \\APython ===>Match \"Python\" at the start of a string\n",
    "#### Python\\Z ===>Match \"Python\" at the end of a string\n",
    "#### \\bPython\\b===> Match \"Python\" at a word boundary\n",
    "#### \\brub\\B \\B is nonword boundary:===> match \"rub\" in \"rube\" and \"ruby\" but not alone\n",
    "#### Python?=!===>Match \"Python\", if followed by an exclamation point.\n",
    "#### Python?!!===>Match \"Python\", if not followed by an exclamation point.\n",
    "\n"
   ]
  },
  {
   "cell_type": "code",
   "execution_count": 1,
   "id": "4ec946b2",
   "metadata": {
    "execution": {
     "iopub.execute_input": "2022-03-14T14:49:06.727423Z",
     "iopub.status.busy": "2022-03-14T14:49:06.726136Z",
     "iopub.status.idle": "2022-03-14T14:49:06.734432Z",
     "shell.execute_reply": "2022-03-14T14:49:06.734863Z",
     "shell.execute_reply.started": "2022-03-14T14:34:14.487271Z"
    },
    "papermill": {
     "duration": 0.029917,
     "end_time": "2022-03-14T14:49:06.735093",
     "exception": false,
     "start_time": "2022-03-14T14:49:06.705176",
     "status": "completed"
    },
    "tags": []
   },
   "outputs": [],
   "source": [
    "import re\n",
    "string = \"Virat Kohli is one of the greatest players in the Indian cricket team.nHe was born on November 5, 1988, in Delhi.nHe has completed his education at Vishal Bharti School.nIn 2008, he won the World Cup for India on Omar’s children under 19 years. From 2011, he started Test cricket matches. nHe is currently the captain of all three formats of India.n In 2017, Virat Kohli got married to Hindi film actress Anushka Sharma.nVirat has won the Man of the Tour twice, in 2014 and 2016. nSince 2008, he has represented Delhi in-home teams. nHe has been awarded the Arjuna Award in recognition of the achievements of international cricket.\""
   ]
  },
  {
   "cell_type": "code",
   "execution_count": 2,
   "id": "b65fbd6f",
   "metadata": {
    "execution": {
     "iopub.execute_input": "2022-03-14T14:49:06.776532Z",
     "iopub.status.busy": "2022-03-14T14:49:06.776077Z",
     "iopub.status.idle": "2022-03-14T14:49:06.781176Z",
     "shell.execute_reply": "2022-03-14T14:49:06.780443Z",
     "shell.execute_reply.started": "2022-03-14T14:34:17.474197Z"
    },
    "papermill": {
     "duration": 0.027452,
     "end_time": "2022-03-14T14:49:06.781369",
     "exception": false,
     "start_time": "2022-03-14T14:49:06.753917",
     "status": "completed"
    },
    "tags": []
   },
   "outputs": [
    {
     "name": "stdout",
     "output_type": "stream",
     "text": [
      "<re.Match object; span=(0, 14), match='Virat Kohli is'>\n",
      "Virat Kohli is\n"
     ]
    }
   ],
   "source": [
    "pattern=r'(^[V].+?)s'\n",
    "print(re.match(pattern,string))      # Returns the match object\n",
    "print(re.match(pattern,string).group())"
   ]
  },
  {
   "cell_type": "code",
   "execution_count": 3,
   "id": "a91f8a96",
   "metadata": {
    "execution": {
     "iopub.execute_input": "2022-03-14T14:49:06.822975Z",
     "iopub.status.busy": "2022-03-14T14:49:06.822329Z",
     "iopub.status.idle": "2022-03-14T14:49:06.826488Z",
     "shell.execute_reply": "2022-03-14T14:49:06.825975Z",
     "shell.execute_reply.started": "2022-03-14T14:34:22.587378Z"
    },
    "papermill": {
     "duration": 0.025821,
     "end_time": "2022-03-14T14:49:06.826624",
     "exception": false,
     "start_time": "2022-03-14T14:49:06.800803",
     "status": "completed"
    },
    "tags": []
   },
   "outputs": [
    {
     "name": "stdout",
     "output_type": "stream",
     "text": [
      "5\n"
     ]
    }
   ],
   "source": [
    "pattern=r'[0-9]+'\n",
    "re.search(pattern,string)      # Returns the match object\n",
    "print(re.search(pattern,string).group())"
   ]
  },
  {
   "cell_type": "code",
   "execution_count": 4,
   "id": "9ff4dce2",
   "metadata": {
    "execution": {
     "iopub.execute_input": "2022-03-14T14:49:06.874911Z",
     "iopub.status.busy": "2022-03-14T14:49:06.874237Z",
     "iopub.status.idle": "2022-03-14T14:49:06.878852Z",
     "shell.execute_reply": "2022-03-14T14:49:06.879349Z",
     "shell.execute_reply.started": "2022-03-14T14:34:23.45494Z"
    },
    "papermill": {
     "duration": 0.028749,
     "end_time": "2022-03-14T14:49:06.879509",
     "exception": false,
     "start_time": "2022-03-14T14:49:06.850760",
     "status": "completed"
    },
    "tags": []
   },
   "outputs": [
    {
     "name": "stdout",
     "output_type": "stream",
     "text": [
      "['5', '1988', '2008', '19', '2011', '2017', '2014', '2016', '2008']\n"
     ]
    }
   ],
   "source": [
    "pattern=r'[0-9]+'\n",
    "print(re.findall(pattern,string))"
   ]
  },
  {
   "cell_type": "code",
   "execution_count": 5,
   "id": "763cf8c6",
   "metadata": {
    "execution": {
     "iopub.execute_input": "2022-03-14T14:49:06.923299Z",
     "iopub.status.busy": "2022-03-14T14:49:06.921118Z",
     "iopub.status.idle": "2022-03-14T14:49:06.925623Z",
     "shell.execute_reply": "2022-03-14T14:49:06.926034Z",
     "shell.execute_reply.started": "2022-03-14T14:35:36.157868Z"
    },
    "papermill": {
     "duration": 0.02606,
     "end_time": "2022-03-14T14:49:06.926163",
     "exception": false,
     "start_time": "2022-03-14T14:49:06.900103",
     "status": "completed"
    },
    "tags": []
   },
   "outputs": [
    {
     "name": "stdout",
     "output_type": "stream",
     "text": [
      "Chiku Kohli is one of the greatest players in the Indian cricket team.nHe was born on November 5, 1988, in Delhi.nHe has completed his education at Vishal Bharti School.nIn 2008, he won the World Cup for India on Omar’s children under 19 years. From 2011, he started Test cricket matches. nHe is currently the captain of all three formats of India.n In 2017, Chiku Kohli got married to Hindi film actress Anushka Sharma.nChiku has won the Man of the Tour twice, in 2014 and 2016. nSince 2008, he has represented Delhi in-home teams. nHe has been awarded the Arjuna Award in recognition of the achievements of international cricket.\n"
     ]
    }
   ],
   "source": [
    "pattern= 'Virat'\n",
    "repl = 'Chiku'\n",
    "print(re.sub(pattern, repl, string))"
   ]
  },
  {
   "cell_type": "code",
   "execution_count": 6,
   "id": "ea11e27d",
   "metadata": {
    "execution": {
     "iopub.execute_input": "2022-03-14T14:49:06.970262Z",
     "iopub.status.busy": "2022-03-14T14:49:06.969697Z",
     "iopub.status.idle": "2022-03-14T14:49:06.971858Z",
     "shell.execute_reply": "2022-03-14T14:49:06.972341Z",
     "shell.execute_reply.started": "2022-03-14T14:35:39.85845Z"
    },
    "papermill": {
     "duration": 0.026994,
     "end_time": "2022-03-14T14:49:06.972491",
     "exception": false,
     "start_time": "2022-03-14T14:49:06.945497",
     "status": "completed"
    },
    "tags": []
   },
   "outputs": [
    {
     "name": "stdout",
     "output_type": "stream",
     "text": [
      "['programokey99']\n"
     ]
    }
   ],
   "source": [
    "import re\n",
    "xx = \"programokey99,education is fun\"\n",
    "r1 = re.findall(r\"^\\w+\",xx)\n",
    "print(r1)"
   ]
  },
  {
   "cell_type": "code",
   "execution_count": 7,
   "id": "55ab7176",
   "metadata": {
    "execution": {
     "iopub.execute_input": "2022-03-14T14:49:07.018571Z",
     "iopub.status.busy": "2022-03-14T14:49:07.015556Z",
     "iopub.status.idle": "2022-03-14T14:49:07.022289Z",
     "shell.execute_reply": "2022-03-14T14:49:07.021791Z",
     "shell.execute_reply.started": "2022-03-14T14:35:46.566714Z"
    },
    "papermill": {
     "duration": 0.029002,
     "end_time": "2022-03-14T14:49:07.022418",
     "exception": false,
     "start_time": "2022-03-14T14:49:06.993416",
     "status": "completed"
    },
    "tags": []
   },
   "outputs": [
    {
     "name": "stdout",
     "output_type": "stream",
     "text": [
      "(25, 26)\n",
      "['we', 'are', 'splitting', 'the', 'words']\n",
      "['', 'plit the word', '']\n"
     ]
    }
   ],
   "source": [
    "import re\n",
    "xx = \"programokey,education is a fun\"\n",
    "r1 = re.search(r\"(\\ba)\", xx)\n",
    "print(r1.span())\n",
    "print((re.split(r'\\s','we are splitting the words')))\n",
    "print((re.split(r's','split the words')))"
   ]
  },
  {
   "cell_type": "code",
   "execution_count": 8,
   "id": "7c884a35",
   "metadata": {
    "execution": {
     "iopub.execute_input": "2022-03-14T14:49:07.071467Z",
     "iopub.status.busy": "2022-03-14T14:49:07.071021Z",
     "iopub.status.idle": "2022-03-14T14:49:07.078901Z",
     "shell.execute_reply": "2022-03-14T14:49:07.078432Z",
     "shell.execute_reply.started": "2022-03-14T14:36:08.945594Z"
    },
    "papermill": {
     "duration": 0.033271,
     "end_time": "2022-03-14T14:49:07.078994",
     "exception": false,
     "start_time": "2022-03-14T14:49:07.045723",
     "status": "completed"
    },
    "tags": []
   },
   "outputs": [
    {
     "name": "stdout",
     "output_type": "stream",
     "text": [
      "Looking for \"software testing\" in \"software testing is fun?\" -> found a match!\n",
      "Looking for \"guru99\" in \"software testing is fun?\" -> no match\n",
      "guru99@google.com\n",
      "careerguru99@hotmail.com\n"
     ]
    }
   ],
   "source": [
    "import re\n",
    "\n",
    "list = [\"guru99 get\", \"guru99 give\", \"guru Selenium\"]\n",
    "for element in list:\n",
    "    z = re.match(\"(g\\w+)\\W(g\\w+)\", element)\n",
    "if z:\n",
    "    print((z.groups()))\n",
    "    \n",
    "patterns = ['software testing', 'guru99']\n",
    "text = 'software testing is fun?'\n",
    "for pattern in patterns:\n",
    "    print('Looking for \"%s\" in \"%s\" ->' % (pattern, text), end=' ')\n",
    "    if re.search(pattern, text):\n",
    "        print('found a match!')\n",
    "else:\n",
    "    print('no match')\n",
    "abc = 'guru99@google.com, careerguru99@hotmail.com, @yahoomail.com'\n",
    "emails = re.findall(r'[\\w\\.-]+@[\\w\\.-]+', abc)\n",
    "for email in emails:\n",
    "    print(email)"
   ]
  },
  {
   "cell_type": "code",
   "execution_count": 9,
   "id": "f0bae6c9",
   "metadata": {
    "execution": {
     "iopub.execute_input": "2022-03-14T14:49:07.136013Z",
     "iopub.status.busy": "2022-03-14T14:49:07.135519Z",
     "iopub.status.idle": "2022-03-14T14:49:07.137258Z",
     "shell.execute_reply": "2022-03-14T14:49:07.137664Z",
     "shell.execute_reply.started": "2022-03-14T14:36:17.675348Z"
    },
    "papermill": {
     "duration": 0.033737,
     "end_time": "2022-03-14T14:49:07.137799",
     "exception": false,
     "start_time": "2022-03-14T14:49:07.104062",
     "status": "completed"
    },
    "tags": []
   },
   "outputs": [],
   "source": [
    "## i+ = one or more i's, as many as possible.\n",
    "match = re.search(r'pi+', 'piiig') # found, match.group() == \"piii\"\n",
    "## Finds the first/leftmost solution, and within it drives the +\n",
    "## as far as possible (aka 'leftmost and largest').\n",
    "## In this example, note that it does not get to the second set of i's.\n",
    "match = re.search(r'i+', 'piigiiii') # found, match.group() == \"ii\"\n",
    "## \\s* = zero or more whitespace chars\n",
    "## Here look for 3 digits, possibly separated by whitespace.\n",
    "match = re.search(r'\\d\\s*\\d\\s*\\d', 'xx1 2   3xx') # found, match.group() == \"1 2   3\"\n",
    "match = re.search(r'\\d\\s*\\d\\s*\\d', 'xx12  3xx') # found, match.group() == \"12  3\"\n",
    "match = re.search(r'\\d\\s*\\d\\s*\\d', 'xx123xx') # found, match.group() == \"123\"\n",
    "## ^ = matches the start of string, so this fails:\n",
    "match = re.search(r'^b\\w+', 'foobar') # not found, match == None\n",
    "## but without the ^ it succeeds:\n",
    "match = re.search(r'b\\w+', 'foobar') # found, match.group() == \"bar\""
   ]
  },
  {
   "cell_type": "code",
   "execution_count": 10,
   "id": "d8db016d",
   "metadata": {
    "execution": {
     "iopub.execute_input": "2022-03-14T14:49:07.179545Z",
     "iopub.status.busy": "2022-03-14T14:49:07.179116Z",
     "iopub.status.idle": "2022-03-14T14:49:07.184354Z",
     "shell.execute_reply": "2022-03-14T14:49:07.184785Z",
     "shell.execute_reply.started": "2022-03-14T14:36:19.126751Z"
    },
    "papermill": {
     "duration": 0.027654,
     "end_time": "2022-03-14T14:49:07.184900",
     "exception": false,
     "start_time": "2022-03-14T14:49:07.157246",
     "status": "completed"
    },
    "tags": []
   },
   "outputs": [
    {
     "name": "stdout",
     "output_type": "stream",
     "text": [
      "b@google\n"
     ]
    }
   ],
   "source": [
    "str = 'purple alice-b@google.com monkey dishwasher'\n",
    "match = re.search(r'\\w+@\\w+', str)\n",
    "if match:\n",
    "  print(match.group())  ## 'b@google'"
   ]
  },
  {
   "cell_type": "code",
   "execution_count": 11,
   "id": "e331d36e",
   "metadata": {
    "execution": {
     "iopub.execute_input": "2022-03-14T14:49:07.230149Z",
     "iopub.status.busy": "2022-03-14T14:49:07.229656Z",
     "iopub.status.idle": "2022-03-14T14:49:07.231795Z",
     "shell.execute_reply": "2022-03-14T14:49:07.232160Z",
     "shell.execute_reply.started": "2022-03-14T14:36:20.046166Z"
    },
    "papermill": {
     "duration": 0.027241,
     "end_time": "2022-03-14T14:49:07.232278",
     "exception": false,
     "start_time": "2022-03-14T14:49:07.205037",
     "status": "completed"
    },
    "tags": []
   },
   "outputs": [
    {
     "name": "stdout",
     "output_type": "stream",
     "text": [
      "alice-b@google.com\n"
     ]
    }
   ],
   "source": [
    "match = re.search(r'[\\w.-]+@[\\w.-]+', str)\n",
    "if match:\n",
    "  print(match.group())  ## 'alice-b@google.com'"
   ]
  },
  {
   "cell_type": "code",
   "execution_count": 12,
   "id": "900d4e7a",
   "metadata": {
    "execution": {
     "iopub.execute_input": "2022-03-14T14:49:07.276056Z",
     "iopub.status.busy": "2022-03-14T14:49:07.275592Z",
     "iopub.status.idle": "2022-03-14T14:49:07.280975Z",
     "shell.execute_reply": "2022-03-14T14:49:07.280587Z",
     "shell.execute_reply.started": "2022-03-14T14:36:20.878296Z"
    },
    "papermill": {
     "duration": 0.028258,
     "end_time": "2022-03-14T14:49:07.281067",
     "exception": false,
     "start_time": "2022-03-14T14:49:07.252809",
     "status": "completed"
    },
    "tags": []
   },
   "outputs": [
    {
     "name": "stdout",
     "output_type": "stream",
     "text": [
      "alice-b@google.com\n",
      "alice-b\n",
      "google.com\n"
     ]
    }
   ],
   "source": [
    "  str = 'purple alice-b@google.com monkey dishwasher'\n",
    "  match = re.search(r'([\\w.-]+)@([\\w.-]+)', str)\n",
    "  if match:\n",
    "    print(match.group())   ## 'alice-b@google.com' (the whole match)\n",
    "    print(match.group(1))  ## 'alice-b' (the username, group 1)\n",
    "    print(match.group(2))  ## 'google.com' (the host, group 2)"
   ]
  },
  {
   "cell_type": "code",
   "execution_count": 13,
   "id": "cc0f231a",
   "metadata": {
    "execution": {
     "iopub.execute_input": "2022-03-14T14:49:07.324442Z",
     "iopub.status.busy": "2022-03-14T14:49:07.323981Z",
     "iopub.status.idle": "2022-03-14T14:49:07.329086Z",
     "shell.execute_reply": "2022-03-14T14:49:07.328481Z",
     "shell.execute_reply.started": "2022-03-14T14:36:22.28714Z"
    },
    "papermill": {
     "duration": 0.027268,
     "end_time": "2022-03-14T14:49:07.329212",
     "exception": false,
     "start_time": "2022-03-14T14:49:07.301944",
     "status": "completed"
    },
    "tags": []
   },
   "outputs": [
    {
     "name": "stdout",
     "output_type": "stream",
     "text": [
      "alice@google.com\n",
      "bob@abc.com\n"
     ]
    }
   ],
   "source": [
    "  ## Suppose we have a text with many email addresses\n",
    "  str = 'purple alice@google.com, blah monkey bob@abc.com blah dishwasher'\n",
    "\n",
    "  ## Here re.findall() returns a list of all the found email strings\n",
    "  emails = re.findall(r'[\\w\\.-]+@[\\w\\.-]+', str) ## ['alice@google.com', 'bob@abc.com']\n",
    "  for email in emails:\n",
    "    # do something with each found email string\n",
    "    print(email)"
   ]
  },
  {
   "cell_type": "code",
   "execution_count": 14,
   "id": "39acf1fe",
   "metadata": {
    "execution": {
     "iopub.execute_input": "2022-03-14T14:49:07.388637Z",
     "iopub.status.busy": "2022-03-14T14:49:07.387975Z",
     "iopub.status.idle": "2022-03-14T14:49:07.394713Z",
     "shell.execute_reply": "2022-03-14T14:49:07.395324Z",
     "shell.execute_reply.started": "2022-03-14T14:36:23.846966Z"
    },
    "papermill": {
     "duration": 0.038558,
     "end_time": "2022-03-14T14:49:07.395496",
     "exception": false,
     "start_time": "2022-03-14T14:49:07.356938",
     "status": "completed"
    },
    "tags": []
   },
   "outputs": [
    {
     "name": "stdout",
     "output_type": "stream",
     "text": [
      "[('alice', 'google.com'), ('bob', 'abc.com')]\n",
      "alice\n",
      "google.com\n",
      "bob\n",
      "abc.com\n"
     ]
    }
   ],
   "source": [
    "  str = 'purple alice@google.com, blah monkey bob@abc.com blah dishwasher'\n",
    "  tuples = re.findall(r'([\\w\\.-]+)@([\\w\\.-]+)', str)\n",
    "  print(tuples)  ## [('alice', 'google.com'), ('bob', 'abc.com')]\n",
    "  for tuple in tuples:\n",
    "    print(tuple[0])  ## username\n",
    "    print(tuple[1])  ## host"
   ]
  },
  {
   "cell_type": "code",
   "execution_count": 15,
   "id": "7245d640",
   "metadata": {
    "execution": {
     "iopub.execute_input": "2022-03-14T14:49:07.445711Z",
     "iopub.status.busy": "2022-03-14T14:49:07.445262Z",
     "iopub.status.idle": "2022-03-14T14:49:07.447122Z",
     "shell.execute_reply": "2022-03-14T14:49:07.447677Z",
     "shell.execute_reply.started": "2022-03-14T14:36:24.117359Z"
    },
    "papermill": {
     "duration": 0.028273,
     "end_time": "2022-03-14T14:49:07.447860",
     "exception": false,
     "start_time": "2022-03-14T14:49:07.419587",
     "status": "completed"
    },
    "tags": []
   },
   "outputs": [
    {
     "name": "stdout",
     "output_type": "stream",
     "text": [
      "purple alice@yo-yo-dyne.com, blah monkey bob@yo-yo-dyne.com blah dishwasher\n"
     ]
    }
   ],
   "source": [
    "  str = 'purple alice@google.com, blah monkey bob@abc.com blah dishwasher'\n",
    "  ## re.sub(pat, replacement, str) -- returns new string with all replacements,\n",
    "  ## \\1 is group(1), \\2 group(2) in the replacement\n",
    "  print(re.sub(r'([\\w\\.-]+)@([\\w\\.-]+)', r'\\1@yo-yo-dyne.com', str))\n",
    "  ## purple alice@yo-yo-dyne.com, blah monkey bob@yo-yo-dyne.com blah dishwasher"
   ]
  },
  {
   "cell_type": "code",
   "execution_count": null,
   "id": "bd24386c",
   "metadata": {
    "papermill": {
     "duration": 0.021891,
     "end_time": "2022-03-14T14:49:07.492771",
     "exception": false,
     "start_time": "2022-03-14T14:49:07.470880",
     "status": "completed"
    },
    "tags": []
   },
   "outputs": [],
   "source": []
  },
  {
   "cell_type": "code",
   "execution_count": null,
   "id": "8d2f39c7",
   "metadata": {
    "papermill": {
     "duration": 0.021053,
     "end_time": "2022-03-14T14:49:07.535336",
     "exception": false,
     "start_time": "2022-03-14T14:49:07.514283",
     "status": "completed"
    },
    "tags": []
   },
   "outputs": [],
   "source": []
  },
  {
   "cell_type": "code",
   "execution_count": null,
   "id": "95b12c95",
   "metadata": {
    "papermill": {
     "duration": 0.021724,
     "end_time": "2022-03-14T14:49:07.578667",
     "exception": false,
     "start_time": "2022-03-14T14:49:07.556943",
     "status": "completed"
    },
    "tags": []
   },
   "outputs": [],
   "source": []
  },
  {
   "cell_type": "code",
   "execution_count": null,
   "id": "6445e176",
   "metadata": {
    "papermill": {
     "duration": 0.021455,
     "end_time": "2022-03-14T14:49:07.622255",
     "exception": false,
     "start_time": "2022-03-14T14:49:07.600800",
     "status": "completed"
    },
    "tags": []
   },
   "outputs": [],
   "source": []
  },
  {
   "cell_type": "code",
   "execution_count": null,
   "id": "d19aa2fa",
   "metadata": {
    "papermill": {
     "duration": 0.020814,
     "end_time": "2022-03-14T14:49:07.664482",
     "exception": false,
     "start_time": "2022-03-14T14:49:07.643668",
     "status": "completed"
    },
    "tags": []
   },
   "outputs": [],
   "source": []
  }
 ],
 "metadata": {
  "kernelspec": {
   "display_name": "Python 3",
   "language": "python",
   "name": "python3"
  },
  "language_info": {
   "codemirror_mode": {
    "name": "ipython",
    "version": 3
   },
   "file_extension": ".py",
   "mimetype": "text/x-python",
   "name": "python",
   "nbconvert_exporter": "python",
   "pygments_lexer": "ipython3",
   "version": "3.7.12"
  },
  "papermill": {
   "default_parameters": {},
   "duration": 9.173063,
   "end_time": "2022-03-14T14:49:08.193760",
   "environment_variables": {},
   "exception": null,
   "input_path": "__notebook__.ipynb",
   "output_path": "__notebook__.ipynb",
   "parameters": {},
   "start_time": "2022-03-14T14:48:59.020697",
   "version": "2.3.3"
  }
 },
 "nbformat": 4,
 "nbformat_minor": 5
}
