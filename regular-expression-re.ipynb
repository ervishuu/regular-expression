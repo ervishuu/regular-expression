{
 "cells": [
  {
   "cell_type": "code",
   "execution_count": null,
   "id": "72a0be5d",
   "metadata": {
    "papermill": {
     "duration": 0.023415,
     "end_time": "2022-03-19T03:54:18.576381",
     "exception": false,
     "start_time": "2022-03-19T03:54:18.552966",
     "status": "completed"
    },
    "tags": []
   },
   "outputs": [],
   "source": []
  },
  {
   "cell_type": "markdown",
   "id": "f9acf4db",
   "metadata": {
    "papermill": {
     "duration": 0.022699,
     "end_time": "2022-03-19T03:54:18.621762",
     "exception": false,
     "start_time": "2022-03-19T03:54:18.599063",
     "status": "completed"
    },
    "tags": []
   },
   "source": [
    "#### Regular expressions are a powerful language for matching text patterns."
   ]
  },
  {
   "cell_type": "markdown",
   "id": "54fb885b",
   "metadata": {
    "papermill": {
     "duration": 0.021986,
     "end_time": "2022-03-19T03:54:18.665866",
     "exception": false,
     "start_time": "2022-03-19T03:54:18.643880",
     "status": "completed"
    },
    "tags": []
   },
   "source": [
    "#### The Python \"re\" module provides regular expression support\n",
    "\n",
    "#### match = re.search(pat, str)\n",
    "\n",
    "#### “re” module included with Python primarily used for string searching and manipulation\n",
    "#### Also used frequently for web page “Scraping” (extract large amount of data from websites)\n",
    "\n",
    "#### Following table lists the regular expression syntax that is available in Python −\n",
    "\n",
    "\n",
    "### Pattern Description:\n",
    "\n",
    "#### ^ ===> Matches beginning of line.\n",
    "\n",
    "#### $  ===> Matches end of line.\n",
    "\n",
    "#### .  ===>Matches any single character except newline. Using m option allows it to match newline as well.\n",
    "\n",
    "#### [...]  ===>Matches any single character in brackets.\n",
    "\n",
    "#### [^...] ===> Matches any single character not in brackets\n",
    "\n",
    "#### re* ===> Matches 0 or more occurrences of preceding expression.\n",
    "\n",
    "#### re+  ===>Matches 1 or more occurrence of preceding expression.\n",
    "\n",
    "#### re? ===> Matches 0 or 1 occurrence of preceding expression.\n",
    "\n",
    "#### re{ n} ===> Matches exactly n number of occurrences of preceding expression.\n",
    "\n",
    "#### re{ n,} ===> Matches n or more occurrences of preceding expression.\n",
    "\n",
    "#### re{ n, m} ===> Matches at least n and at most m occurrences of preceding expression.\n",
    "\n",
    "#### a| b  ===>Matches either a or b.\n",
    "\n",
    "#### \\w ===>Matches word characters.\n",
    "#### \\W ===>Matches nonword characters.\n",
    "#### \\s ===>Matches whitespace. Equivalent to [\\t\\n\\r\\f].\n",
    "#### \\S ===>Matches nonwhitespace.\n",
    "#### \\d ===>Matches digits. Equivalent to [0-9].\n",
    "#### \\D ===>Matches nondigits.\n",
    "#### \\A ===>Matches beginning of string.\n",
    "#### \\Z ===>Matches end of string. If a newline exists, it matches just before newline.\n",
    "#### \\z ===>Matches end of string\n",
    "\n",
    "#### rub[ye]===> Match \"ruby\" or \"rube\"\n",
    "#### [aeiou]===> Match any one lowercase vowel\n",
    "#### [0-9] ===>Match any digit; same as [0123456789]\n",
    "#### [a-z] ===>Match any lowercase ASCII letter\n",
    "#### [A-Z] ===>Match any uppercase ASCII letter\n",
    "#### [a-zA-Z0-9] ===>Match any of the above\n",
    "#### [^aeiou]===> Match anything other than a lowercase vowel\n",
    "#### [^0-9] ===> Match anything other than a digit\n",
    "\n",
    "#### . ===>Match any character except newline\n",
    "#### \\d ===> Match a digit: [0-9]\n",
    "#### \\D ===> Match a nondigit: [^0-9]\n",
    "#### \\s ===> Match a whitespace character: [ \\t\\r\\n\\f]\n",
    "#### \\S ===> Match nonwhitespace: [^ \\t\\r\\n\\f]\n",
    "#### \\w ===> Match a single word character: [A-Za-z0-9_]\n",
    "#### \\W ===> Match a nonword character: [^A-Za-z0-9_]\n",
    "\n",
    "#### ruby? ===> Match \"rub\" or \"ruby\": the y is optional\n",
    "#### ruby* ===> Match \"rub\" plus 0 or more ys\n",
    "#### ruby+ ===> Match \"rub\" plus 1 or more ys\n",
    "#### \\d{3} ===> Match exactly 3 digits\n",
    "#### \\d{3,} ===>Match 3 or more digits\n",
    "#### \\d{3,5} ===>Match 3, 4, or 5 digits\n",
    "\n",
    "#### [Pp]ython&\\1ails ===>Match python&pails or Python&Pails\n",
    "#### ['\"][^\\1]*\\1 ===>Single or double-quoted string. \\1 matches whatever the 1st group matched. \\2 matches whatever the 2nd group matched, etc.\n",
    "\n",
    "#### python|perl ===>Match \"python\" or \"perl\"\n",
    "#### ruby|le) ===>Match \"ruby\" or \"ruble\"\n",
    "#### Python!+|\\? ===>\"Python\" followed by one or more ! or one ?\n",
    "\n",
    "\n",
    "#### ^Python===>Match \"Python\" at the start of a string or internal line\n",
    "#### Python$===>Match \"Python\" at the end of a string or line\n",
    "#### \\APython ===>Match \"Python\" at the start of a string\n",
    "#### Python\\Z ===>Match \"Python\" at the end of a string\n",
    "#### \\bPython\\b===> Match \"Python\" at a word boundary\n",
    "#### \\brub\\B \\B is nonword boundary:===> match \"rub\" in \"rube\" and \"ruby\" but not alone\n",
    "#### Python?=!===>Match \"Python\", if followed by an exclamation point.\n",
    "#### Python?!!===>Match \"Python\", if not followed by an exclamation point.\n",
    "\n"
   ]
  },
  {
   "cell_type": "code",
   "execution_count": 1,
   "id": "56b3ae14",
   "metadata": {
    "execution": {
     "iopub.execute_input": "2022-03-19T03:54:18.716520Z",
     "iopub.status.busy": "2022-03-19T03:54:18.715315Z",
     "iopub.status.idle": "2022-03-19T03:54:18.724414Z",
     "shell.execute_reply": "2022-03-19T03:54:18.725019Z",
     "shell.execute_reply.started": "2022-03-14T14:34:14.487271Z"
    },
    "papermill": {
     "duration": 0.035887,
     "end_time": "2022-03-19T03:54:18.725334",
     "exception": false,
     "start_time": "2022-03-19T03:54:18.689447",
     "status": "completed"
    },
    "tags": []
   },
   "outputs": [],
   "source": [
    "import re\n",
    "string = \"Virat Kohli is one of the greatest players in the Indian cricket team.nHe was born on November 5, 1988, in Delhi.nHe has completed his education at Vishal Bharti School.nIn 2008, he won the World Cup for India on Omar’s children under 19 years. From 2011, he started Test cricket matches. nHe is currently the captain of all three formats of India.n In 2017, Virat Kohli got married to Hindi film actress Anushka Sharma.nVirat has won the Man of the Tour twice, in 2014 and 2016. nSince 2008, he has represented Delhi in-home teams. nHe has been awarded the Arjuna Award in recognition of the achievements of international cricket.\""
   ]
  },
  {
   "cell_type": "code",
   "execution_count": 2,
   "id": "33732598",
   "metadata": {
    "execution": {
     "iopub.execute_input": "2022-03-19T03:54:18.772719Z",
     "iopub.status.busy": "2022-03-19T03:54:18.772062Z",
     "iopub.status.idle": "2022-03-19T03:54:18.778113Z",
     "shell.execute_reply": "2022-03-19T03:54:18.777573Z",
     "shell.execute_reply.started": "2022-03-14T14:34:17.474197Z"
    },
    "papermill": {
     "duration": 0.030725,
     "end_time": "2022-03-19T03:54:18.778254",
     "exception": false,
     "start_time": "2022-03-19T03:54:18.747529",
     "status": "completed"
    },
    "tags": []
   },
   "outputs": [
    {
     "name": "stdout",
     "output_type": "stream",
     "text": [
      "<re.Match object; span=(0, 14), match='Virat Kohli is'>\n",
      "Virat Kohli is\n"
     ]
    }
   ],
   "source": [
    "pattern=r'(^[V].+?)s'\n",
    "print(re.match(pattern,string))      # Returns the match object\n",
    "print(re.match(pattern,string).group())"
   ]
  },
  {
   "cell_type": "code",
   "execution_count": 3,
   "id": "a9d69f3d",
   "metadata": {
    "execution": {
     "iopub.execute_input": "2022-03-19T03:54:18.830006Z",
     "iopub.status.busy": "2022-03-19T03:54:18.829263Z",
     "iopub.status.idle": "2022-03-19T03:54:18.832511Z",
     "shell.execute_reply": "2022-03-19T03:54:18.831982Z",
     "shell.execute_reply.started": "2022-03-14T14:34:22.587378Z"
    },
    "papermill": {
     "duration": 0.030718,
     "end_time": "2022-03-19T03:54:18.832648",
     "exception": false,
     "start_time": "2022-03-19T03:54:18.801930",
     "status": "completed"
    },
    "tags": []
   },
   "outputs": [
    {
     "name": "stdout",
     "output_type": "stream",
     "text": [
      "5\n"
     ]
    }
   ],
   "source": [
    "pattern=r'[0-9]+'\n",
    "re.search(pattern,string)      # Returns the match object\n",
    "print(re.search(pattern,string).group())"
   ]
  },
  {
   "cell_type": "code",
   "execution_count": 4,
   "id": "c296a7f7",
   "metadata": {
    "execution": {
     "iopub.execute_input": "2022-03-19T03:54:18.885261Z",
     "iopub.status.busy": "2022-03-19T03:54:18.884562Z",
     "iopub.status.idle": "2022-03-19T03:54:18.889005Z",
     "shell.execute_reply": "2022-03-19T03:54:18.888472Z",
     "shell.execute_reply.started": "2022-03-14T14:34:23.45494Z"
    },
    "papermill": {
     "duration": 0.032705,
     "end_time": "2022-03-19T03:54:18.889153",
     "exception": false,
     "start_time": "2022-03-19T03:54:18.856448",
     "status": "completed"
    },
    "tags": []
   },
   "outputs": [
    {
     "name": "stdout",
     "output_type": "stream",
     "text": [
      "['5', '1988', '2008', '19', '2011', '2017', '2014', '2016', '2008']\n"
     ]
    }
   ],
   "source": [
    "pattern=r'[0-9]+'\n",
    "print(re.findall(pattern,string))"
   ]
  },
  {
   "cell_type": "code",
   "execution_count": 5,
   "id": "243326a5",
   "metadata": {
    "execution": {
     "iopub.execute_input": "2022-03-19T03:54:18.941906Z",
     "iopub.status.busy": "2022-03-19T03:54:18.941108Z",
     "iopub.status.idle": "2022-03-19T03:54:18.943749Z",
     "shell.execute_reply": "2022-03-19T03:54:18.944232Z",
     "shell.execute_reply.started": "2022-03-14T14:35:36.157868Z"
    },
    "papermill": {
     "duration": 0.031596,
     "end_time": "2022-03-19T03:54:18.944427",
     "exception": false,
     "start_time": "2022-03-19T03:54:18.912831",
     "status": "completed"
    },
    "tags": []
   },
   "outputs": [
    {
     "name": "stdout",
     "output_type": "stream",
     "text": [
      "Chiku Kohli is one of the greatest players in the Indian cricket team.nHe was born on November 5, 1988, in Delhi.nHe has completed his education at Vishal Bharti School.nIn 2008, he won the World Cup for India on Omar’s children under 19 years. From 2011, he started Test cricket matches. nHe is currently the captain of all three formats of India.n In 2017, Chiku Kohli got married to Hindi film actress Anushka Sharma.nChiku has won the Man of the Tour twice, in 2014 and 2016. nSince 2008, he has represented Delhi in-home teams. nHe has been awarded the Arjuna Award in recognition of the achievements of international cricket.\n"
     ]
    }
   ],
   "source": [
    "pattern= 'Virat'\n",
    "repl = 'Chiku'\n",
    "print(re.sub(pattern, repl, string))"
   ]
  },
  {
   "cell_type": "code",
   "execution_count": 6,
   "id": "c14f5ad9",
   "metadata": {
    "execution": {
     "iopub.execute_input": "2022-03-19T03:54:19.000971Z",
     "iopub.status.busy": "2022-03-19T03:54:19.000241Z",
     "iopub.status.idle": "2022-03-19T03:54:19.002788Z",
     "shell.execute_reply": "2022-03-19T03:54:19.003271Z",
     "shell.execute_reply.started": "2022-03-14T14:35:39.85845Z"
    },
    "papermill": {
     "duration": 0.034866,
     "end_time": "2022-03-19T03:54:19.003485",
     "exception": false,
     "start_time": "2022-03-19T03:54:18.968619",
     "status": "completed"
    },
    "tags": []
   },
   "outputs": [
    {
     "name": "stdout",
     "output_type": "stream",
     "text": [
      "['programokey99']\n"
     ]
    }
   ],
   "source": [
    "import re\n",
    "xx = \"programokey99,education is fun\"\n",
    "r1 = re.findall(r\"^\\w+\",xx)\n",
    "print(r1)"
   ]
  },
  {
   "cell_type": "code",
   "execution_count": 7,
   "id": "c39bd99c",
   "metadata": {
    "execution": {
     "iopub.execute_input": "2022-03-19T03:54:19.062564Z",
     "iopub.status.busy": "2022-03-19T03:54:19.061459Z",
     "iopub.status.idle": "2022-03-19T03:54:19.066538Z",
     "shell.execute_reply": "2022-03-19T03:54:19.065830Z",
     "shell.execute_reply.started": "2022-03-14T14:35:46.566714Z"
    },
    "papermill": {
     "duration": 0.037138,
     "end_time": "2022-03-19T03:54:19.066692",
     "exception": false,
     "start_time": "2022-03-19T03:54:19.029554",
     "status": "completed"
    },
    "tags": []
   },
   "outputs": [
    {
     "name": "stdout",
     "output_type": "stream",
     "text": [
      "(25, 26)\n",
      "['we', 'are', 'splitting', 'the', 'words']\n",
      "['', 'plit the word', '']\n"
     ]
    }
   ],
   "source": [
    "import re\n",
    "xx = \"programokey,education is a fun\"\n",
    "r1 = re.search(r\"(\\ba)\", xx)\n",
    "print(r1.span())\n",
    "print((re.split(r'\\s','we are splitting the words')))\n",
    "print((re.split(r's','split the words')))"
   ]
  },
  {
   "cell_type": "code",
   "execution_count": 8,
   "id": "352ca86e",
   "metadata": {
    "execution": {
     "iopub.execute_input": "2022-03-19T03:54:19.127333Z",
     "iopub.status.busy": "2022-03-19T03:54:19.126276Z",
     "iopub.status.idle": "2022-03-19T03:54:19.130102Z",
     "shell.execute_reply": "2022-03-19T03:54:19.130674Z",
     "shell.execute_reply.started": "2022-03-14T14:36:08.945594Z"
    },
    "papermill": {
     "duration": 0.039049,
     "end_time": "2022-03-19T03:54:19.130866",
     "exception": false,
     "start_time": "2022-03-19T03:54:19.091817",
     "status": "completed"
    },
    "tags": []
   },
   "outputs": [
    {
     "name": "stdout",
     "output_type": "stream",
     "text": [
      "Looking for \"software testing\" in \"software testing is fun?\" -> found a match!\n",
      "Looking for \"guru99\" in \"software testing is fun?\" -> no match\n",
      "guru99@google.com\n",
      "careerguru99@hotmail.com\n"
     ]
    }
   ],
   "source": [
    "import re\n",
    "\n",
    "list = [\"guru99 get\", \"guru99 give\", \"guru Selenium\"]\n",
    "for element in list:\n",
    "    z = re.match(\"(g\\w+)\\W(g\\w+)\", element)\n",
    "if z:\n",
    "    print((z.groups()))\n",
    "    \n",
    "patterns = ['software testing', 'guru99']\n",
    "text = 'software testing is fun?'\n",
    "for pattern in patterns:\n",
    "    print('Looking for \"%s\" in \"%s\" ->' % (pattern, text), end=' ')\n",
    "    if re.search(pattern, text):\n",
    "        print('found a match!')\n",
    "else:\n",
    "    print('no match')\n",
    "abc = 'guru99@google.com, careerguru99@hotmail.com, @yahoomail.com'\n",
    "emails = re.findall(r'[\\w\\.-]+@[\\w\\.-]+', abc)\n",
    "for email in emails:\n",
    "    print(email)"
   ]
  },
  {
   "cell_type": "code",
   "execution_count": 9,
   "id": "a527d725",
   "metadata": {
    "execution": {
     "iopub.execute_input": "2022-03-19T03:54:19.189069Z",
     "iopub.status.busy": "2022-03-19T03:54:19.184839Z",
     "iopub.status.idle": "2022-03-19T03:54:19.192495Z",
     "shell.execute_reply": "2022-03-19T03:54:19.191776Z",
     "shell.execute_reply.started": "2022-03-14T14:36:17.675348Z"
    },
    "papermill": {
     "duration": 0.036462,
     "end_time": "2022-03-19T03:54:19.192650",
     "exception": false,
     "start_time": "2022-03-19T03:54:19.156188",
     "status": "completed"
    },
    "tags": []
   },
   "outputs": [],
   "source": [
    "## i+ = one or more i's, as many as possible.\n",
    "match = re.search(r'pi+', 'piiig') # found, match.group() == \"piii\"\n",
    "## Finds the first/leftmost solution, and within it drives the +\n",
    "## as far as possible (aka 'leftmost and largest').\n",
    "## In this example, note that it does not get to the second set of i's.\n",
    "match = re.search(r'i+', 'piigiiii') # found, match.group() == \"ii\"\n",
    "## \\s* = zero or more whitespace chars\n",
    "## Here look for 3 digits, possibly separated by whitespace.\n",
    "match = re.search(r'\\d\\s*\\d\\s*\\d', 'xx1 2   3xx') # found, match.group() == \"1 2   3\"\n",
    "match = re.search(r'\\d\\s*\\d\\s*\\d', 'xx12  3xx') # found, match.group() == \"12  3\"\n",
    "match = re.search(r'\\d\\s*\\d\\s*\\d', 'xx123xx') # found, match.group() == \"123\"\n",
    "## ^ = matches the start of string, so this fails:\n",
    "match = re.search(r'^b\\w+', 'foobar') # not found, match == None\n",
    "## but without the ^ it succeeds:\n",
    "match = re.search(r'b\\w+', 'foobar') # found, match.group() == \"bar\""
   ]
  },
  {
   "cell_type": "code",
   "execution_count": 10,
   "id": "a12a40cc",
   "metadata": {
    "execution": {
     "iopub.execute_input": "2022-03-19T03:54:19.249829Z",
     "iopub.status.busy": "2022-03-19T03:54:19.248998Z",
     "iopub.status.idle": "2022-03-19T03:54:19.252594Z",
     "shell.execute_reply": "2022-03-19T03:54:19.253062Z",
     "shell.execute_reply.started": "2022-03-14T14:36:19.126751Z"
    },
    "papermill": {
     "duration": 0.034692,
     "end_time": "2022-03-19T03:54:19.253243",
     "exception": false,
     "start_time": "2022-03-19T03:54:19.218551",
     "status": "completed"
    },
    "tags": []
   },
   "outputs": [
    {
     "name": "stdout",
     "output_type": "stream",
     "text": [
      "b@google\n"
     ]
    }
   ],
   "source": [
    "str = 'purple alice-b@google.com monkey dishwasher'\n",
    "match = re.search(r'\\w+@\\w+', str)\n",
    "if match:\n",
    "  print(match.group())  ## 'b@google'"
   ]
  },
  {
   "cell_type": "code",
   "execution_count": 11,
   "id": "d251644d",
   "metadata": {
    "execution": {
     "iopub.execute_input": "2022-03-19T03:54:19.308512Z",
     "iopub.status.busy": "2022-03-19T03:54:19.307501Z",
     "iopub.status.idle": "2022-03-19T03:54:19.315207Z",
     "shell.execute_reply": "2022-03-19T03:54:19.313715Z",
     "shell.execute_reply.started": "2022-03-14T14:36:20.046166Z"
    },
    "papermill": {
     "duration": 0.036681,
     "end_time": "2022-03-19T03:54:19.315471",
     "exception": false,
     "start_time": "2022-03-19T03:54:19.278790",
     "status": "completed"
    },
    "tags": []
   },
   "outputs": [
    {
     "name": "stdout",
     "output_type": "stream",
     "text": [
      "alice-b@google.com\n"
     ]
    }
   ],
   "source": [
    "match = re.search(r'[\\w.-]+@[\\w.-]+', str)\n",
    "if match:\n",
    "  print(match.group())  ## 'alice-b@google.com'"
   ]
  },
  {
   "cell_type": "code",
   "execution_count": 12,
   "id": "495d1b41",
   "metadata": {
    "execution": {
     "iopub.execute_input": "2022-03-19T03:54:19.375023Z",
     "iopub.status.busy": "2022-03-19T03:54:19.374072Z",
     "iopub.status.idle": "2022-03-19T03:54:19.377594Z",
     "shell.execute_reply": "2022-03-19T03:54:19.378088Z",
     "shell.execute_reply.started": "2022-03-14T14:36:20.878296Z"
    },
    "papermill": {
     "duration": 0.036192,
     "end_time": "2022-03-19T03:54:19.378259",
     "exception": false,
     "start_time": "2022-03-19T03:54:19.342067",
     "status": "completed"
    },
    "tags": []
   },
   "outputs": [
    {
     "name": "stdout",
     "output_type": "stream",
     "text": [
      "alice-b@google.com\n",
      "alice-b\n",
      "google.com\n"
     ]
    }
   ],
   "source": [
    "  str = 'purple alice-b@google.com monkey dishwasher'\n",
    "  match = re.search(r'([\\w.-]+)@([\\w.-]+)', str)\n",
    "  if match:\n",
    "    print(match.group())   ## 'alice-b@google.com' (the whole match)\n",
    "    print(match.group(1))  ## 'alice-b' (the username, group 1)\n",
    "    print(match.group(2))  ## 'google.com' (the host, group 2)"
   ]
  },
  {
   "cell_type": "code",
   "execution_count": 13,
   "id": "c23f7648",
   "metadata": {
    "execution": {
     "iopub.execute_input": "2022-03-19T03:54:19.435582Z",
     "iopub.status.busy": "2022-03-19T03:54:19.434840Z",
     "iopub.status.idle": "2022-03-19T03:54:19.441510Z",
     "shell.execute_reply": "2022-03-19T03:54:19.442267Z",
     "shell.execute_reply.started": "2022-03-14T14:36:22.28714Z"
    },
    "papermill": {
     "duration": 0.038351,
     "end_time": "2022-03-19T03:54:19.442552",
     "exception": false,
     "start_time": "2022-03-19T03:54:19.404201",
     "status": "completed"
    },
    "tags": []
   },
   "outputs": [
    {
     "name": "stdout",
     "output_type": "stream",
     "text": [
      "alice@google.com\n",
      "bob@abc.com\n"
     ]
    }
   ],
   "source": [
    "  ## Suppose we have a text with many email addresses\n",
    "  str = 'purple alice@google.com, blah monkey bob@abc.com blah dishwasher'\n",
    "\n",
    "  ## Here re.findall() returns a list of all the found email strings\n",
    "  emails = re.findall(r'[\\w\\.-]+@[\\w\\.-]+', str) ## ['alice@google.com', 'bob@abc.com']\n",
    "  for email in emails:\n",
    "    # do something with each found email string\n",
    "    print(email)"
   ]
  },
  {
   "cell_type": "code",
   "execution_count": 14,
   "id": "4e103673",
   "metadata": {
    "execution": {
     "iopub.execute_input": "2022-03-19T03:54:19.503377Z",
     "iopub.status.busy": "2022-03-19T03:54:19.500079Z",
     "iopub.status.idle": "2022-03-19T03:54:19.506061Z",
     "shell.execute_reply": "2022-03-19T03:54:19.507050Z",
     "shell.execute_reply.started": "2022-03-14T14:36:23.846966Z"
    },
    "papermill": {
     "duration": 0.036792,
     "end_time": "2022-03-19T03:54:19.507310",
     "exception": false,
     "start_time": "2022-03-19T03:54:19.470518",
     "status": "completed"
    },
    "tags": []
   },
   "outputs": [
    {
     "name": "stdout",
     "output_type": "stream",
     "text": [
      "[('alice', 'google.com'), ('bob', 'abc.com')]\n",
      "alice\n",
      "google.com\n",
      "bob\n",
      "abc.com\n"
     ]
    }
   ],
   "source": [
    "  str = 'purple alice@google.com, blah monkey bob@abc.com blah dishwasher'\n",
    "  tuples = re.findall(r'([\\w\\.-]+)@([\\w\\.-]+)', str)\n",
    "  print(tuples)  ## [('alice', 'google.com'), ('bob', 'abc.com')]\n",
    "  for tuple in tuples:\n",
    "    print(tuple[0])  ## username\n",
    "    print(tuple[1])  ## host"
   ]
  },
  {
   "cell_type": "code",
   "execution_count": 15,
   "id": "9bfef444",
   "metadata": {
    "execution": {
     "iopub.execute_input": "2022-03-19T03:54:19.569191Z",
     "iopub.status.busy": "2022-03-19T03:54:19.566633Z",
     "iopub.status.idle": "2022-03-19T03:54:19.571466Z",
     "shell.execute_reply": "2022-03-19T03:54:19.572173Z",
     "shell.execute_reply.started": "2022-03-14T14:36:24.117359Z"
    },
    "papermill": {
     "duration": 0.036523,
     "end_time": "2022-03-19T03:54:19.572421",
     "exception": false,
     "start_time": "2022-03-19T03:54:19.535898",
     "status": "completed"
    },
    "tags": []
   },
   "outputs": [
    {
     "name": "stdout",
     "output_type": "stream",
     "text": [
      "purple alice@yo-yo-dyne.com, blah monkey bob@yo-yo-dyne.com blah dishwasher\n"
     ]
    }
   ],
   "source": [
    "  str = 'purple alice@google.com, blah monkey bob@abc.com blah dishwasher'\n",
    "  ## re.sub(pat, replacement, str) -- returns new string with all replacements,\n",
    "  ## \\1 is group(1), \\2 group(2) in the replacement\n",
    "  print(re.sub(r'([\\w\\.-]+)@([\\w\\.-]+)', r'\\1@yo-yo-dyne.com', str))\n",
    "  ## purple alice@yo-yo-dyne.com, blah monkey bob@yo-yo-dyne.com blah dishwasher"
   ]
  },
  {
   "cell_type": "code",
   "execution_count": null,
   "id": "2806e462",
   "metadata": {
    "papermill": {
     "duration": 0.027377,
     "end_time": "2022-03-19T03:54:19.628094",
     "exception": false,
     "start_time": "2022-03-19T03:54:19.600717",
     "status": "completed"
    },
    "tags": []
   },
   "outputs": [],
   "source": []
  },
  {
   "cell_type": "code",
   "execution_count": null,
   "id": "5ca90e2c",
   "metadata": {
    "papermill": {
     "duration": 0.027007,
     "end_time": "2022-03-19T03:54:19.682550",
     "exception": false,
     "start_time": "2022-03-19T03:54:19.655543",
     "status": "completed"
    },
    "tags": []
   },
   "outputs": [],
   "source": []
  },
  {
   "cell_type": "code",
   "execution_count": null,
   "id": "c9d90d63",
   "metadata": {
    "papermill": {
     "duration": 0.0267,
     "end_time": "2022-03-19T03:54:19.736512",
     "exception": false,
     "start_time": "2022-03-19T03:54:19.709812",
     "status": "completed"
    },
    "tags": []
   },
   "outputs": [],
   "source": []
  },
  {
   "cell_type": "code",
   "execution_count": null,
   "id": "b5bec3c2",
   "metadata": {
    "papermill": {
     "duration": 0.027008,
     "end_time": "2022-03-19T03:54:19.791907",
     "exception": false,
     "start_time": "2022-03-19T03:54:19.764899",
     "status": "completed"
    },
    "tags": []
   },
   "outputs": [],
   "source": []
  },
  {
   "cell_type": "code",
   "execution_count": null,
   "id": "87d6af90",
   "metadata": {
    "papermill": {
     "duration": 0.026856,
     "end_time": "2022-03-19T03:54:19.846101",
     "exception": false,
     "start_time": "2022-03-19T03:54:19.819245",
     "status": "completed"
    },
    "tags": []
   },
   "outputs": [],
   "source": []
  }
 ],
 "metadata": {
  "kernelspec": {
   "display_name": "Python 3",
   "language": "python",
   "name": "python3"
  },
  "language_info": {
   "codemirror_mode": {
    "name": "ipython",
    "version": 3
   },
   "file_extension": ".py",
   "mimetype": "text/x-python",
   "name": "python",
   "nbconvert_exporter": "python",
   "pygments_lexer": "ipython3",
   "version": "3.7.12"
  },
  "papermill": {
   "default_parameters": {},
   "duration": 12.897177,
   "end_time": "2022-03-19T03:54:20.483344",
   "environment_variables": {},
   "exception": null,
   "input_path": "__notebook__.ipynb",
   "output_path": "__notebook__.ipynb",
   "parameters": {},
   "start_time": "2022-03-19T03:54:07.586167",
   "version": "2.3.3"
  }
 },
 "nbformat": 4,
 "nbformat_minor": 5
}
